{
  "nbformat": 4,
  "nbformat_minor": 0,
  "metadata": {
    "colab": {
      "provenance": [],
      "authorship_tag": "ABX9TyOKl09fprc3Jaw+Powq/Ezi",
      "include_colab_link": true
    },
    "kernelspec": {
      "name": "python3",
      "display_name": "Python 3"
    },
    "language_info": {
      "name": "python"
    }
  },
  "cells": [
    {
      "cell_type": "markdown",
      "metadata": {
        "id": "view-in-github",
        "colab_type": "text"
      },
      "source": [
        "<a href=\"https://colab.research.google.com/github/DEEPAK-RAMGIRI/Information-Retrieval-System-IRS-/blob/main/PROJECT%202.ipynb\" target=\"_parent\"><img src=\"https://colab.research.google.com/assets/colab-badge.svg\" alt=\"Open In Colab\"/></a>"
      ]
    },
    {
      "cell_type": "code",
      "execution_count": 33,
      "metadata": {
        "id": "tmwmkqlWotQ-"
      },
      "outputs": [],
      "source": [
        "import pandas as pd\n",
        "from sklearn.feature_extraction.text import TfidfVectorizer\n",
        "from sklearn.metrics.pairwise import cosine_similarity\n",
        "\n",
        "\n",
        "games = [\n",
        "    {\"name\": \"The Witcher 3\", \"genre\": \"RPG Open-World Fantasy\", \"age_group\": 18},\n",
        "    {\"name\": \"God of War\", \"genre\": \"Action Adventure Mythology\", \"age_group\": 18},\n",
        "    {\"name\": \"Halo Infinite\", \"genre\": \"Shooter Sci-Fi FPS\", \"age_group\": 16},\n",
        "    {\"name\": \"Hollow Knight\", \"genre\": \"Metroidvania Action Adventure\", \"age_group\": 12},\n",
        "    {\"name\": \"Super Mario Odyssey\", \"genre\": \"Platformer Adventure\", \"age_group\": 7},\n",
        "    {\"name\": \"Elden Ring\", \"genre\": \"RPG Open-World Fantasy\", \"age_group\": 18},\n",
        "    {\"name\": \"Forza Horizon 5\", \"genre\": \"Racing Open-World\", \"age_group\": 10},\n",
        "    {\"name\": \"Temple Run\", \"genre\": \"Running\", \"age_group\": 7},\n",
        "     {\"name\": \"Subway Surfers\", \"genre\": \"Running\", \"age_group\": 7},\n",
        "      {\"name\": \"Candy Crush\", \"genre\": \"Puzzle\", \"age_group\": 10},\n",
        "     {\"name\": \"World Cricket Championship 3\",\"genre\": \"Sports\",\"age_group\": 18},\n",
        "    {\"name\": \"Real Football\", \"genre\": \"Sports\", \"age_group\": 18},\n",
        "    {\"name\": \"Ludo King\", \"genre\": \"Puzzle\", \"age_group\": 12},\n",
        "]\n"
      ]
    },
    {
      "cell_type": "code",
      "source": [
        "\n",
        "df = pd.DataFrame(games)\n",
        "vectorizer = TfidfVectorizer()\n",
        "tfidf_matrix = vectorizer.fit_transform(df[\"genre\"])\n",
        "\n",
        "\n",
        "cosine_sim = cosine_similarity(tfidf_matrix, tfidf_matrix)\n",
        "\n",
        "def get_age_category(age):\n",
        "    if age < 7:\n",
        "        return 0  # Toddler\n",
        "    elif age < 12:\n",
        "        return 7  # Child\n",
        "    elif age < 18:\n",
        "        return 20  # Teen\n",
        "    elif age < 60:\n",
        "        return 18  # Adult\n",
        "    else:\n",
        "        return 60  # Senior\n",
        "\n"
      ],
      "metadata": {
        "id": "pTtur2Fy3EHN"
      },
      "execution_count": 34,
      "outputs": []
    },
    {
      "cell_type": "code",
      "source": [
        "\n",
        "def recommend_games(age, game_name, top_n=10):\n",
        "    age_group = get_age_category(age)\n",
        "\n",
        "\n",
        "    age_filtered_games = df[df[\"age_group\"] <= age_group].reset_index(drop=True)\n",
        "\n",
        "    if game_name not in age_filtered_games[\"name\"].values:\n",
        "        return [\"Game not found or not age-appropriate!\"]\n",
        "\n",
        "    tfidf_matrix_filtered = vectorizer.fit_transform(age_filtered_games[\"genre\"])\n",
        "    cosine_sim_filtered = cosine_similarity(tfidf_matrix_filtered, tfidf_matrix_filtered)\n",
        "\n",
        "    game_index = age_filtered_games[age_filtered_games[\"name\"] == game_name].index[0]\n",
        "    similarity_scores = list(enumerate(cosine_sim_filtered[game_index]))\n",
        "\n",
        "    sorted_scores = sorted(similarity_scores, key=lambda x: x[1], reverse=True)\n",
        "    recommended_games = [age_filtered_games[\"name\"].iloc[i] for i, _ in sorted_scores[1:top_n+1] if i < len(age_filtered_games)]\n",
        "\n",
        "    return recommended_games if recommended_games else [\"No suitable games found!\"]\n",
        "\n",
        "age = int(input(\"Enter your age: \"))\n",
        "game_name = input(\"Enter a game you like: \")\n",
        "\n",
        "recommendations = recommend_games(age, game_name)\n",
        "print(\"\\nRecommended Games:\", \", \".join(recommendations))\n"
      ],
      "metadata": {
        "colab": {
          "base_uri": "https://localhost:8080/"
        },
        "id": "D22ts5xQ3HRB",
        "outputId": "328bde35-2308-4706-9360-390ce41de309"
      },
      "execution_count": 35,
      "outputs": [
        {
          "output_type": "stream",
          "name": "stdout",
          "text": [
            "Enter your age: 8\n",
            "Enter a game you like: Subway Surfers\n",
            "\n",
            "Recommended Games: Subway Surfers, Super Mario Odyssey\n"
          ]
        }
      ]
    }
  ]
}