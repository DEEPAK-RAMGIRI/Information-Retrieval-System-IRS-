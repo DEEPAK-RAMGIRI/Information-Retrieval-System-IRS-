{
  "nbformat": 4,
  "nbformat_minor": 0,
  "metadata": {
    "colab": {
      "provenance": [],
      "authorship_tag": "ABX9TyMS0xUWNX4cFSERhmcudgTI",
      "include_colab_link": true
    },
    "kernelspec": {
      "name": "python3",
      "display_name": "Python 3"
    },
    "language_info": {
      "name": "python"
    }
  },
  "cells": [
    {
      "cell_type": "markdown",
      "metadata": {
        "id": "view-in-github",
        "colab_type": "text"
      },
      "source": [
        "<a href=\"https://colab.research.google.com/github/DEEPAK-RAMGIRI/Information-Retrieval-System-IRS-/blob/main/PROJECT%202.ipynb\" target=\"_parent\"><img src=\"https://colab.research.google.com/assets/colab-badge.svg\" alt=\"Open In Colab\"/></a>"
      ]
    },
    {
      "cell_type": "code",
      "execution_count": null,
      "metadata": {
        "id": "tmwmkqlWotQ-"
      },
      "outputs": [],
      "source": [
        "import pandas as pd\n",
        "from sklearn.feature_extraction.text import TfidfVectorizer\n",
        "from sklearn.metrics.pairwise import cosine_similarity\n",
        "\n",
        "# Sample game dataset with age categories\n",
        "games = [\n",
        "    {\"name\": \"The Witcher 3\", \"genre\": \"RPG Open-World Fantasy\", \"age_group\": 18},\n",
        "    {\"name\": \"God of War\", \"genre\": \"Action Adventure Mythology\", \"age_group\": 18},\n",
        "    {\"name\": \"Halo Infinite\", \"genre\": \"Shooter Sci-Fi FPS\", \"age_group\": 16},\n",
        "    {\"name\": \"Hollow Knight\", \"genre\": \"Metroidvania Action Adventure\", \"age_group\": 12},\n",
        "    {\"name\": \"Super Mario Odyssey\", \"genre\": \"Platformer Adventure\", \"age_group\": 7},\n",
        "    {\"name\": \"Elden Ring\", \"genre\": \"RPG Open-World Fantasy\", \"age_group\": 18},\n",
        "    {\"name\": \"Forza Horizon 5\", \"genre\": \"Racing Open-World\", \"age_group\": 10},\n",
        "]\n"
      ]
    },
    {
      "cell_type": "code",
      "source": [
        "\n",
        "# Convert to DataFrame\n",
        "df = pd.DataFrame(games)\n",
        "\n",
        "# Convert genres into numerical features using TF-IDF\n",
        "vectorizer = TfidfVectorizer()\n",
        "tfidf_matrix = vectorizer.fit_transform(df[\"genre\"])\n",
        "\n",
        "# Compute cosine similarity between all games\n",
        "cosine_sim = cosine_similarity(tfidf_matrix, tfidf_matrix)\n",
        "\n",
        "# Function to determine allowed age group\n",
        "def get_age_category(age):\n",
        "    if age < 7:\n",
        "        return 0\n",
        "    elif age < 12:\n",
        "        return 7\n",
        "    elif age < 16:\n",
        "        return 12\n",
        "    elif age < 18:\n",
        "        return 16\n",
        "    else:\n",
        "        return 18\n"
      ],
      "metadata": {
        "id": "pTtur2Fy3EHN"
      },
      "execution_count": null,
      "outputs": []
    },
    {
      "cell_type": "code",
      "source": [
        "\n",
        "# Function to recommend games based on age & similarity\n",
        "def recommend_games(age, game_name, top_n=3):\n",
        "    age_group = get_age_category(age)\n",
        "\n",
        "    # Filter games based on age group\n",
        "    age_filtered_games = df[df[\"age_group\"] <= age_group].reset_index(drop=True)\n",
        "\n",
        "    if game_name not in age_filtered_games[\"name\"].values:\n",
        "        return [\"Game not found or not age-appropriate!\"]\n",
        "\n",
        "    game_index = age_filtered_games[age_filtered_games[\"name\"] == game_name].index[0]\n",
        "    similarity_scores = list(enumerate(cosine_sim[game_index]))\n",
        "\n",
        "    # Sort and get top recommendations\n",
        "    sorted_scores = sorted(similarity_scores, key=lambda x: x[1], reverse=True)\n",
        "    recommended_games = [age_filtered_games[\"name\"].iloc[i] for i, _ in sorted_scores[1:top_n+1] if i < len(age_filtered_games)]\n",
        "\n",
        "    return recommended_games if recommended_games else [\"No suitable games found!\"]\n",
        "\n",
        "# Example usage\n",
        "age = int(input(\"Enter your age: \"))\n",
        "game_name = input(\"Enter a game you like: \")\n",
        "\n",
        "recommendations = recommend_games(age, game_name)4\n",
        "print(\"\\nRecommended Games:\", \", \".join(recommendations))\n"
      ],
      "metadata": {
        "colab": {
          "base_uri": "https://localhost:8080/"
        },
        "id": "D22ts5xQ3HRB",
        "outputId": "aa6bf8d1-fc3d-4cc0-8553-ba9e5897166c"
      },
      "execution_count": null,
      "outputs": [
        {
          "output_type": "stream",
          "name": "stdout",
          "text": [
            "Enter your age: 20\n",
            "Enter a game you like: Elden Ring\n",
            "\n",
            "Recommended Games: Elden Ring, Forza Horizon 5, God of War\n"
          ]
        }
      ]
    }
  ]
}