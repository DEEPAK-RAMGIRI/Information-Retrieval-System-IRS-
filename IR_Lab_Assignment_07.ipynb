{
  "nbformat": 4,
  "nbformat_minor": 0,
  "metadata": {
    "colab": {
      "provenance": [],
      "authorship_tag": "ABX9TyPE4AFPlDVuRe0mHgYYsAum",
      "include_colab_link": true
    },
    "kernelspec": {
      "name": "python3",
      "display_name": "Python 3"
    },
    "language_info": {
      "name": "python"
    }
  },
  "cells": [
    {
      "cell_type": "markdown",
      "metadata": {
        "id": "view-in-github",
        "colab_type": "text"
      },
      "source": [
        "<a href=\"https://colab.research.google.com/github/DEEPAK-RAMGIRI/Information-Retrieval-System-IRS-/blob/main/IR_Lab_Assignment_07.ipynb\" target=\"_parent\"><img src=\"https://colab.research.google.com/assets/colab-badge.svg\" alt=\"Open In Colab\"/></a>"
      ]
    },
    {
      "cell_type": "code",
      "execution_count": 6,
      "metadata": {
        "id": "igagwwBQkFsz"
      },
      "outputs": [],
      "source": [
        "import spacy\n",
        "import nltk\n",
        "from nltk import word_tokenize, pos_tag"
      ]
    },
    {
      "cell_type": "code",
      "source": [
        "nltk.download('punkt_tab')\n",
        "nltk.download('averaged_perceptron_tagger')\n",
        "nltk.download('averaged_perceptron_tagger_eng')\n",
        "nlp = spacy.load(\"en_core_web_sm\")"
      ],
      "metadata": {
        "colab": {
          "base_uri": "https://localhost:8080/"
        },
        "id": "hJuU2zfmkX7F",
        "outputId": "875f100e-d71f-4ea4-8b86-f2b91d611b67"
      },
      "execution_count": 9,
      "outputs": [
        {
          "output_type": "stream",
          "name": "stderr",
          "text": [
            "[nltk_data] Downloading package punkt_tab to /root/nltk_data...\n",
            "[nltk_data]   Package punkt_tab is already up-to-date!\n",
            "[nltk_data] Downloading package averaged_perceptron_tagger to\n",
            "[nltk_data]     /root/nltk_data...\n",
            "[nltk_data]   Package averaged_perceptron_tagger is already up-to-\n",
            "[nltk_data]       date!\n",
            "[nltk_data] Downloading package averaged_perceptron_tagger_eng to\n",
            "[nltk_data]     /root/nltk_data...\n",
            "[nltk_data]   Unzipping taggers/averaged_perceptron_tagger_eng.zip.\n"
          ]
        }
      ]
    },
    {
      "cell_type": "code",
      "source": [
        "text = \"Machine learning is transforming the world of artificial intelligence\"\n",
        "print(\"spaCy POS Tagging:\")\n",
        "doc = nlp(text)\n",
        "for token in doc:\n",
        "    print(f\"{token.text}: {token.pos_}\")\n",
        "\n",
        "# NLTK POS tagging\n",
        "print(\"\\nNLTK POS Tagging:\")\n",
        "tokens = word_tokenize(text)\n",
        "nltk_tags = pos_tag(tokens)\n",
        "for word, tag in nltk_tags:\n",
        "    print(f\" {word} : {tag}\")\n"
      ],
      "metadata": {
        "colab": {
          "base_uri": "https://localhost:8080/"
        },
        "id": "Qq9n0Fl4kiBH",
        "outputId": "271674e0-b54e-4dca-a68a-74e5456630b5"
      },
      "execution_count": 14,
      "outputs": [
        {
          "output_type": "stream",
          "name": "stdout",
          "text": [
            "spaCy POS Tagging:\n",
            "Machine: NOUN\n",
            "learning: NOUN\n",
            "is: AUX\n",
            "transforming: VERB\n",
            "the: DET\n",
            "world: NOUN\n",
            "of: ADP\n",
            "artificial: ADJ\n",
            "intelligence: NOUN\n",
            "\n",
            "NLTK POS Tagging:\n",
            " Machine : NN\n",
            " learning : NN\n",
            " is : VBZ\n",
            " transforming : VBG\n",
            " the : DT\n",
            " world : NN\n",
            " of : IN\n",
            " artificial : JJ\n",
            " intelligence : NN\n"
          ]
        }
      ]
    }
  ]
}