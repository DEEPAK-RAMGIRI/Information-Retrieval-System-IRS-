{
  "nbformat": 4,
  "nbformat_minor": 0,
  "metadata": {
    "colab": {
      "provenance": [],
      "authorship_tag": "ABX9TyPXPKChu+c5Jh9awUiNG1f7",
      "include_colab_link": true
    },
    "kernelspec": {
      "name": "python3",
      "display_name": "Python 3"
    },
    "language_info": {
      "name": "python"
    }
  },
  "cells": [
    {
      "cell_type": "markdown",
      "metadata": {
        "id": "view-in-github",
        "colab_type": "text"
      },
      "source": [
        "<a href=\"https://colab.research.google.com/github/DEEPAK-RAMGIRI/Information-Retrieval-System-IRS-/blob/main/IR_Lab_Assignment_06.ipynb\" target=\"_parent\"><img src=\"https://colab.research.google.com/assets/colab-badge.svg\" alt=\"Open In Colab\"/></a>"
      ]
    },
    {
      "cell_type": "markdown",
      "source": [
        "# N GRAMS"
      ],
      "metadata": {
        "id": "BMEY6uRJkIE4"
      }
    },
    {
      "cell_type": "code",
      "source": [
        "import nltk\n",
        "from collections import Counter"
      ],
      "metadata": {
        "id": "D5Ar6ecajmBc"
      },
      "execution_count": 10,
      "outputs": []
    },
    {
      "cell_type": "code",
      "source": [
        "def generate_ngrams(tokens, n):\n",
        "    ngrams = [' '.join(tokens[i:i+n]) for i in range(len(tokens)-n+1)]\n",
        "    return ngrams"
      ],
      "metadata": {
        "id": "iNBBblVHjvpi"
      },
      "execution_count": 11,
      "outputs": []
    },
    {
      "cell_type": "code",
      "source": [
        "def compute_frequencies(ngrams):\n",
        "    return dict(Counter(ngrams))"
      ],
      "metadata": {
        "id": "goyv-trdjw25"
      },
      "execution_count": 12,
      "outputs": []
    },
    {
      "cell_type": "code",
      "execution_count": 15,
      "metadata": {
        "colab": {
          "base_uri": "https://localhost:8080/"
        },
        "id": "h5IzB8JcicGR",
        "outputId": "5fe06750-01c0-4fdf-88c2-4a7b787ab826"
      },
      "outputs": [
        {
          "output_type": "stream",
          "name": "stdout",
          "text": [
            "['As', 'Anaya', 'closed', 'her', 'eyes,', 'she', 'felt', 'herself', 'being', 'lifted', 'into', 'the', 'air.', 'She', 'soared', 'above', 'the', 'village,', 'over', 'mountains', 'and', 'rivers,', 'witnessing', 'the', 'beauty', 'of', 'nature', 'and', 'the', 'kindness', 'of', 'people.', 'She', 'saw', 'animals', 'in', 'their', 'natural', 'habitats,', 'stars', 'twinkling', 'in', 'the', 'night', 'sky,', 'and', 'the', 'vibrant', 'colors', 'of', 'the', 'changing', 'seasons.When', 'she', 'finally', 'opened', 'her', 'eyes,', 'she', 'was', 'back', 'under', 'the', 'banyan', 'tree,', 'but', 'she', 'felt', 'different—wiser,', 'more', 'connected', 'to', 'the', 'world', 'around', 'her']\n"
          ]
        }
      ],
      "source": [
        "text =\"As Anaya closed her eyes, she felt herself being lifted into the air. She soared above the village, over mountains and rivers, witnessing the beauty of nature and the kindness of people. She saw animals in their natural habitats, stars twinkling in the night sky, and the vibrant colors of the changing seasons.When she finally opened her eyes, she was back under the banyan tree, but she felt different—wiser, more connected to the world around her\"\n",
        "tokens = text.split()\n",
        "print(tokens)\n",
        "unigrams = generate_ngrams(tokens, 1)\n",
        "bigrams = generate_ngrams(tokens, 2)\n",
        "trigrams = generate_ngrams(tokens, 3)"
      ]
    },
    {
      "cell_type": "code",
      "source": [
        "print(\"\\nUnigrams Frequency:\", compute_frequencies(unigrams))\n",
        "print(\"\\nBigrams Frequency:\", compute_frequencies(bigrams))\n",
        "print(\"\\nTrigrams Frequency:\", compute_frequencies(trigrams))"
      ],
      "metadata": {
        "colab": {
          "base_uri": "https://localhost:8080/"
        },
        "id": "I4-gLVZMj_W7",
        "outputId": "40f1667b-b33a-4180-8e69-b297f50456fe"
      },
      "execution_count": 14,
      "outputs": [
        {
          "output_type": "stream",
          "name": "stdout",
          "text": [
            "\n",
            "Unigrams Frequency: {'As': 1, 'Anaya': 1, 'closed': 1, 'her': 3, 'eyes,': 2, 'she': 4, 'felt': 2, 'herself': 1, 'being': 1, 'lifted': 1, 'into': 1, 'the': 9, 'air.': 1, 'She': 2, 'soared': 1, 'above': 1, 'village,': 1, 'over': 1, 'mountains': 1, 'and': 3, 'rivers,': 1, 'witnessing': 1, 'beauty': 1, 'of': 3, 'nature': 1, 'kindness': 1, 'people.': 1, 'saw': 1, 'animals': 1, 'in': 2, 'their': 1, 'natural': 1, 'habitats,': 1, 'stars': 1, 'twinkling': 1, 'night': 1, 'sky,': 1, 'vibrant': 1, 'colors': 1, 'changing': 1, 'seasons.When': 1, 'finally': 1, 'opened': 1, 'was': 1, 'back': 1, 'under': 1, 'banyan': 1, 'tree,': 1, 'but': 1, 'different—wiser,': 1, 'more': 1, 'connected': 1, 'to': 1, 'world': 1, 'around': 1}\n",
            "\n",
            "Bigrams Frequency: {'As Anaya': 1, 'Anaya closed': 1, 'closed her': 1, 'her eyes,': 2, 'eyes, she': 2, 'she felt': 2, 'felt herself': 1, 'herself being': 1, 'being lifted': 1, 'lifted into': 1, 'into the': 1, 'the air.': 1, 'air. She': 1, 'She soared': 1, 'soared above': 1, 'above the': 1, 'the village,': 1, 'village, over': 1, 'over mountains': 1, 'mountains and': 1, 'and rivers,': 1, 'rivers, witnessing': 1, 'witnessing the': 1, 'the beauty': 1, 'beauty of': 1, 'of nature': 1, 'nature and': 1, 'and the': 2, 'the kindness': 1, 'kindness of': 1, 'of people.': 1, 'people. She': 1, 'She saw': 1, 'saw animals': 1, 'animals in': 1, 'in their': 1, 'their natural': 1, 'natural habitats,': 1, 'habitats, stars': 1, 'stars twinkling': 1, 'twinkling in': 1, 'in the': 1, 'the night': 1, 'night sky,': 1, 'sky, and': 1, 'the vibrant': 1, 'vibrant colors': 1, 'colors of': 1, 'of the': 1, 'the changing': 1, 'changing seasons.When': 1, 'seasons.When she': 1, 'she finally': 1, 'finally opened': 1, 'opened her': 1, 'she was': 1, 'was back': 1, 'back under': 1, 'under the': 1, 'the banyan': 1, 'banyan tree,': 1, 'tree, but': 1, 'but she': 1, 'felt different—wiser,': 1, 'different—wiser, more': 1, 'more connected': 1, 'connected to': 1, 'to the': 1, 'the world': 1, 'world around': 1, 'around her': 1}\n",
            "\n",
            "Trigrams Frequency: {'As Anaya closed': 1, 'Anaya closed her': 1, 'closed her eyes,': 1, 'her eyes, she': 2, 'eyes, she felt': 1, 'she felt herself': 1, 'felt herself being': 1, 'herself being lifted': 1, 'being lifted into': 1, 'lifted into the': 1, 'into the air.': 1, 'the air. She': 1, 'air. She soared': 1, 'She soared above': 1, 'soared above the': 1, 'above the village,': 1, 'the village, over': 1, 'village, over mountains': 1, 'over mountains and': 1, 'mountains and rivers,': 1, 'and rivers, witnessing': 1, 'rivers, witnessing the': 1, 'witnessing the beauty': 1, 'the beauty of': 1, 'beauty of nature': 1, 'of nature and': 1, 'nature and the': 1, 'and the kindness': 1, 'the kindness of': 1, 'kindness of people.': 1, 'of people. She': 1, 'people. She saw': 1, 'She saw animals': 1, 'saw animals in': 1, 'animals in their': 1, 'in their natural': 1, 'their natural habitats,': 1, 'natural habitats, stars': 1, 'habitats, stars twinkling': 1, 'stars twinkling in': 1, 'twinkling in the': 1, 'in the night': 1, 'the night sky,': 1, 'night sky, and': 1, 'sky, and the': 1, 'and the vibrant': 1, 'the vibrant colors': 1, 'vibrant colors of': 1, 'colors of the': 1, 'of the changing': 1, 'the changing seasons.When': 1, 'changing seasons.When she': 1, 'seasons.When she finally': 1, 'she finally opened': 1, 'finally opened her': 1, 'opened her eyes,': 1, 'eyes, she was': 1, 'she was back': 1, 'was back under': 1, 'back under the': 1, 'under the banyan': 1, 'the banyan tree,': 1, 'banyan tree, but': 1, 'tree, but she': 1, 'but she felt': 1, 'she felt different—wiser,': 1, 'felt different—wiser, more': 1, 'different—wiser, more connected': 1, 'more connected to': 1, 'connected to the': 1, 'to the world': 1, 'the world around': 1, 'world around her': 1}\n"
          ]
        }
      ]
    }
  ]
}