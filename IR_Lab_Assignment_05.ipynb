{
  "nbformat": 4,
  "nbformat_minor": 0,
  "metadata": {
    "colab": {
      "provenance": [],
      "authorship_tag": "ABX9TyPc9uQkInaMkZvPGcx/fKJB",
      "include_colab_link": true
    },
    "kernelspec": {
      "name": "python3",
      "display_name": "Python 3"
    },
    "language_info": {
      "name": "python"
    }
  },
  "cells": [
    {
      "cell_type": "markdown",
      "metadata": {
        "id": "view-in-github",
        "colab_type": "text"
      },
      "source": [
        "<a href=\"https://colab.research.google.com/github/DEEPAK-RAMGIRI/Information-Retrieval-System-IRS-/blob/main/IR_Lab_Assignment_05.ipynb\" target=\"_parent\"><img src=\"https://colab.research.google.com/assets/colab-badge.svg\" alt=\"Open In Colab\"/></a>"
      ]
    },
    {
      "cell_type": "code",
      "execution_count": 29,
      "metadata": {
        "id": "fxKJDyc9NLyt"
      },
      "outputs": [],
      "source": [
        "import nltk\n",
        "from nltk.stem import WordNetLemmatizer\n",
        "from nltk.stem import PorterStemmer"
      ]
    },
    {
      "cell_type": "code",
      "source": [
        "nltk.download('wordnet')"
      ],
      "metadata": {
        "colab": {
          "base_uri": "https://localhost:8080/"
        },
        "id": "iL6dDJOSN2EI",
        "outputId": "2e7055ca-c3c8-48b3-b1f7-6cc9d530d4a0"
      },
      "execution_count": 30,
      "outputs": [
        {
          "output_type": "stream",
          "name": "stderr",
          "text": [
            "[nltk_data] Downloading package wordnet to /root/nltk_data...\n",
            "[nltk_data]   Package wordnet is already up-to-date!\n"
          ]
        },
        {
          "output_type": "execute_result",
          "data": {
            "text/plain": [
              "True"
            ]
          },
          "metadata": {},
          "execution_count": 30
        }
      ]
    },
    {
      "cell_type": "code",
      "source": [
        "def function(text):\n",
        "    lemmatizer = WordNetLemmatizer()\n",
        "    stemmer = PorterStemmer()\n",
        "    # print(f\"Word: {i}, stemmer: {root1}, lemmataization: {root2}\")\n",
        "    prefixes = [\"un\", \"pre\", \"re\", \"mis\", \"dis\", \"in\"]\n",
        "    suffixes = [\"ing\", \"ed\", \"ly\", \"es\", \"s\", \"ment\", \"able\"]\n",
        "    for i in text:\n",
        "      root1 = stemmer.stem(i)\n",
        "      root2 = lemmatizer.lemmatize(i)\n",
        "      found_prefix = [p for p in prefixes if i.startswith(p)]\n",
        "      found_suffix = [s for s in suffixes if i.endswith(s)]\n",
        "      print(f\"Word: {i}, stemmer: {root1}, lemmataization: {root2} prefix:  {found_prefix} suffix:  {found_suffix}\")"
      ],
      "metadata": {
        "id": "aPF2OpLKNfzF"
      },
      "execution_count": 31,
      "outputs": []
    },
    {
      "cell_type": "code",
      "source": [
        "text = [\"unhappy\", \"unknown\", \"undo\" , \"preview\", \"predict\", \"preheat\",\"redo\", \"rebuild\", \"rewrite\",\"misunderstand\", \"mislead\", \"misuse\",\"dislike\", \"disconnect\", \"disagree\",\"incorrect\",\"invisible\", \"incomplete\",\"running\", \"playing\", \"singing\",\"jumped\", \"painted\", \"closed\",\"happily\", \"quickly\", \"slowly\",\"watches\", \"boxes\", \"buses\",\"cats\", \"dogs\", \"books\",\"enjoyment\", \"development\", \"agreement\",\"comfortable\", \"breakable\", \"readable\"]\n",
        "function(text)"
      ],
      "metadata": {
        "colab": {
          "base_uri": "https://localhost:8080/"
        },
        "id": "7Np8aAfGSCzB",
        "outputId": "aaea57ce-447d-4dc4-a5a5-f720029bc3b5"
      },
      "execution_count": 32,
      "outputs": [
        {
          "output_type": "stream",
          "name": "stdout",
          "text": [
            "Word: unhappy, stemmer: unhappi, lemmataization: unhappy prefix:  ['un'] suffix:  []\n",
            "Word: unknown, stemmer: unknown, lemmataization: unknown prefix:  ['un'] suffix:  []\n",
            "Word: undo, stemmer: undo, lemmataization: undo prefix:  ['un'] suffix:  []\n",
            "Word: preview, stemmer: preview, lemmataization: preview prefix:  ['pre'] suffix:  []\n",
            "Word: predict, stemmer: predict, lemmataization: predict prefix:  ['pre'] suffix:  []\n",
            "Word: preheat, stemmer: preheat, lemmataization: preheat prefix:  ['pre'] suffix:  []\n",
            "Word: redo, stemmer: redo, lemmataization: redo prefix:  ['re'] suffix:  []\n",
            "Word: rebuild, stemmer: rebuild, lemmataization: rebuild prefix:  ['re'] suffix:  []\n",
            "Word: rewrite, stemmer: rewrit, lemmataization: rewrite prefix:  ['re'] suffix:  []\n",
            "Word: misunderstand, stemmer: misunderstand, lemmataization: misunderstand prefix:  ['mis'] suffix:  []\n",
            "Word: mislead, stemmer: mislead, lemmataization: mislead prefix:  ['mis'] suffix:  []\n",
            "Word: misuse, stemmer: misus, lemmataization: misuse prefix:  ['mis'] suffix:  []\n",
            "Word: dislike, stemmer: dislik, lemmataization: dislike prefix:  ['dis'] suffix:  []\n",
            "Word: disconnect, stemmer: disconnect, lemmataization: disconnect prefix:  ['dis'] suffix:  []\n",
            "Word: disagree, stemmer: disagre, lemmataization: disagree prefix:  ['dis'] suffix:  []\n",
            "Word: incorrect, stemmer: incorrect, lemmataization: incorrect prefix:  ['in'] suffix:  []\n",
            "Word: invisible, stemmer: invis, lemmataization: invisible prefix:  ['in'] suffix:  []\n",
            "Word: incomplete, stemmer: incomplet, lemmataization: incomplete prefix:  ['in'] suffix:  []\n",
            "Word: running, stemmer: run, lemmataization: running prefix:  [] suffix:  ['ing']\n",
            "Word: playing, stemmer: play, lemmataization: playing prefix:  [] suffix:  ['ing']\n",
            "Word: singing, stemmer: sing, lemmataization: singing prefix:  [] suffix:  ['ing']\n",
            "Word: jumped, stemmer: jump, lemmataization: jumped prefix:  [] suffix:  ['ed']\n",
            "Word: painted, stemmer: paint, lemmataization: painted prefix:  [] suffix:  ['ed']\n",
            "Word: closed, stemmer: close, lemmataization: closed prefix:  [] suffix:  ['ed']\n",
            "Word: happily, stemmer: happili, lemmataization: happily prefix:  [] suffix:  ['ly']\n",
            "Word: quickly, stemmer: quickli, lemmataization: quickly prefix:  [] suffix:  ['ly']\n",
            "Word: slowly, stemmer: slowli, lemmataization: slowly prefix:  [] suffix:  ['ly']\n",
            "Word: watches, stemmer: watch, lemmataization: watch prefix:  [] suffix:  ['es', 's']\n",
            "Word: boxes, stemmer: box, lemmataization: box prefix:  [] suffix:  ['es', 's']\n",
            "Word: buses, stemmer: buse, lemmataization: bus prefix:  [] suffix:  ['es', 's']\n",
            "Word: cats, stemmer: cat, lemmataization: cat prefix:  [] suffix:  ['s']\n",
            "Word: dogs, stemmer: dog, lemmataization: dog prefix:  [] suffix:  ['s']\n",
            "Word: books, stemmer: book, lemmataization: book prefix:  [] suffix:  ['s']\n",
            "Word: enjoyment, stemmer: enjoy, lemmataization: enjoyment prefix:  [] suffix:  ['ment']\n",
            "Word: development, stemmer: develop, lemmataization: development prefix:  [] suffix:  ['ment']\n",
            "Word: agreement, stemmer: agreement, lemmataization: agreement prefix:  [] suffix:  ['ment']\n",
            "Word: comfortable, stemmer: comfort, lemmataization: comfortable prefix:  [] suffix:  ['able']\n",
            "Word: breakable, stemmer: breakabl, lemmataization: breakable prefix:  [] suffix:  ['able']\n",
            "Word: readable, stemmer: readabl, lemmataization: readable prefix:  ['re'] suffix:  ['able']\n"
          ]
        }
      ]
    }
  ]
}