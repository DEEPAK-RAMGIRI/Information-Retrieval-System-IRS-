{
  "nbformat": 4,
  "nbformat_minor": 0,
  "metadata": {
    "colab": {
      "provenance": []
    },
    "kernelspec": {
      "name": "python3",
      "display_name": "Python 3"
    },
    "language_info": {
      "name": "python"
    }
  },
  "cells": [
    {
      "cell_type": "code",
      "source": [
        "import spacy\n",
        "from spacy.training.example import Example\n",
        "from spacy.training import offsets_to_biluo_tags\n",
        "from spacy.tokens import DocBin\n",
        "from spacy.scorer import Scorer\n",
        "import random"
      ],
      "metadata": {
        "id": "VZpqlBCncuM-"
      },
      "execution_count": 35,
      "outputs": []
    },
    {
      "cell_type": "code",
      "source": [
        "def create_training_data():\n",
        "    TRAIN_DATA = [\n",
        "        (\"Trump had previously too raised questions on the need to provide monetary support to India to increase voter turnout during elections.\",\n",
        "         {\"entities\": [(0, 5, \"PERSON\"), (82, 87, \"GPE\")]}),\n",
        "        (\"Why are we giving $21 million to India? They got a lot more money.\",\n",
        "         {\"entities\": [(26, 31, \"GPE\")]}),\n",
        "        (\"Trump said at his Mar-a-Lago residence in Florida on February 18.\",\n",
        "         {\"entities\": [(0, 5, \"PERSON\"), (30, 37, \"GPE\"), (41, 49, \"DATE\")]})\n",
        "    ]\n",
        "    return TRAIN_DATA\n"
      ],
      "metadata": {
        "id": "u4uPnBvFcxML"
      },
      "execution_count": 36,
      "outputs": []
    },
    {
      "cell_type": "code",
      "source": [
        "def train_ner_model():\n",
        "    nlp = spacy.blank(\"en\")\n",
        "    if \"ner\" not in nlp.pipe_names:\n",
        "        ner = nlp.add_pipe(\"ner\")\n",
        "    else:\n",
        "        ner = nlp.get_pipe(\"ner\")\n",
        "\n",
        "    TRAIN_DATA = create_training_data()\n",
        "    for _, annotations in TRAIN_DATA:\n",
        "        for ent in annotations[\"entities\"]:\n",
        "            ner.add_label(ent[2])\n",
        "\n",
        "    optimizer = nlp.begin_training()\n",
        "    for i in range(20):\n",
        "        random.shuffle(TRAIN_DATA)\n",
        "        losses = {}\n",
        "        for text, annotations in TRAIN_DATA:\n",
        "            example = Example.from_dict(nlp.make_doc(text), annotations)\n",
        "            nlp.update([example], losses=losses)\n",
        "        print(f\"Iteration {i+1}, Loss: {losses}\")\n",
        "\n",
        "    nlp.to_disk(\"custom_ner_model\")\n",
        "    print(\"Model saved to 'custom_ner_model'\")\n",
        "\n"
      ],
      "metadata": {
        "id": "Rym7NcWFck0P"
      },
      "execution_count": 37,
      "outputs": []
    },
    {
      "cell_type": "code",
      "source": [
        "def evaluate_model():\n",
        "    nlp = spacy.load(\"custom_ner_model\")\n",
        "    scorer = Scorer()\n",
        "    TEST_DATA = [\n",
        "        (\"Trump visited India last year.\", {\"entities\": [(0, 5, \"PERSON\"), (13, 18, \"GPE\")]}),\n",
        "        (\"Mar-a-Lago is located in Florida.\", {\"entities\": [(24, 31, \"GPE\")]})\n",
        "    ]\n",
        "    examples = []\n",
        "    for text, annotations in TEST_DATA:\n",
        "        doc = nlp.make_doc(text)\n",
        "        example = Example.from_dict(doc, annotations)\n",
        "        example.predicted = nlp(text)\n",
        "        examples.append(example)\n",
        "    scores = scorer.score(examples)\n",
        "    print(\"Evaluation Scores:\", scores)\n",
        "\n",
        "if __name__ == \"__main__\":\n",
        "    train_ner_model()\n",
        "    evaluate_model()\n"
      ],
      "metadata": {
        "colab": {
          "base_uri": "https://localhost:8080/"
        },
        "id": "nEIuQRwkc6Vk",
        "outputId": "348983ee-f4b1-456b-b6c6-2087660ae8b9"
      },
      "execution_count": 38,
      "outputs": [
        {
          "output_type": "stream",
          "name": "stdout",
          "text": [
            "Iteration 1, Loss: {'ner': np.float32(44.85943)}\n",
            "Iteration 2, Loss: {'ner': np.float32(37.543976)}\n",
            "Iteration 3, Loss: {'ner': np.float32(19.422052)}\n",
            "Iteration 4, Loss: {'ner': np.float32(3.2424)}\n",
            "Iteration 5, Loss: {'ner': np.float32(1.8486869)}\n",
            "Iteration 6, Loss: {'ner': np.float32(1.3118305)}\n",
            "Iteration 7, Loss: {'ner': np.float32(0.5765054)}\n",
            "Iteration 8, Loss: {'ner': np.float32(0.11403555)}\n",
            "Iteration 9, Loss: {'ner': np.float32(0.0009413567)}\n",
            "Iteration 10, Loss: {'ner': np.float32(6.392342e-05)}\n",
            "Iteration 11, Loss: {'ner': np.float32(3.108914e-07)}\n",
            "Iteration 12, Loss: {'ner': np.float32(4.5747566e-07)}\n",
            "Iteration 13, Loss: {'ner': np.float32(1.5079807e-09)}\n",
            "Iteration 14, Loss: {'ner': np.float32(2.9215624e-08)}\n",
            "Iteration 15, Loss: {'ner': np.float32(5.4800706e-09)}\n",
            "Iteration 16, Loss: {'ner': np.float32(1.5945917e-09)}\n",
            "Iteration 17, Loss: {'ner': np.float32(7.0654123e-09)}\n",
            "Iteration 18, Loss: {'ner': np.float32(1.897099e-09)}\n",
            "Iteration 19, Loss: {'ner': np.float32(1.128743e-09)}\n",
            "Iteration 20, Loss: {'ner': np.float32(1.6931269e-08)}\n",
            "Model saved to 'custom_ner_model'\n",
            "Evaluation Scores: {'token_acc': 1.0, 'token_p': 1.0, 'token_r': 1.0, 'token_f': 1.0, 'sents_p': None, 'sents_r': None, 'sents_f': None, 'tag_acc': None, 'pos_acc': None, 'morph_acc': None, 'morph_micro_p': None, 'morph_micro_r': None, 'morph_micro_f': None, 'morph_per_feat': None, 'dep_uas': None, 'dep_las': None, 'dep_las_per_type': None, 'ents_p': 1.0, 'ents_r': 1.0, 'ents_f': 1.0, 'ents_per_type': {'PERSON': {'p': 1.0, 'r': 1.0, 'f': 1.0}}, 'cats_score': 0.0, 'cats_score_desc': 'macro F', 'cats_micro_p': 0.0, 'cats_micro_r': 0.0, 'cats_micro_f': 0.0, 'cats_macro_p': 0.0, 'cats_macro_r': 0.0, 'cats_macro_f': 0.0, 'cats_macro_auc': 0.0, 'cats_f_per_type': {}, 'cats_auc_per_type': {}}\n"
          ]
        }
      ]
    }
  ]
}
