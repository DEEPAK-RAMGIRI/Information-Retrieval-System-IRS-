{
  "nbformat": 4,
  "nbformat_minor": 0,
  "metadata": {
    "colab": {
      "provenance": [],
      "include_colab_link": true
    },
    "kernelspec": {
      "name": "python3",
      "display_name": "Python 3"
    },
    "language_info": {
      "name": "python"
    }
  },
  "cells": [
    {
      "cell_type": "markdown",
      "metadata": {
        "id": "view-in-github",
        "colab_type": "text"
      },
      "source": [
        "<a href=\"https://colab.research.google.com/github/DEEPAK-RAMGIRI/Information-Retrieval-System-IRS-/blob/main/IR_Lab_Assignemnt_10.ipynb\" target=\"_parent\"><img src=\"https://colab.research.google.com/assets/colab-badge.svg\" alt=\"Open In Colab\"/></a>"
      ]
    },
    {
      "cell_type": "code",
      "execution_count": null,
      "metadata": {
        "colab": {
          "base_uri": "https://localhost:8080/"
        },
        "id": "3jzdYoImeZLF",
        "outputId": "8ba9d2dd-4689-41ca-b525-65507252d235"
      },
      "outputs": [
        {
          "output_type": "stream",
          "name": "stdout",
          "text": [
            "                                              review sentiment\n",
            "0   family mormon have never tried explain them t...  positive\n",
            "1  buddhism has very much lot compatible with chr...  positive\n",
            "2  seriously don say thing first all they won get...  negative\n",
            "3  what you have learned yours and only yours wha...   neutral\n",
            "4  for your own benefit you may want read living ...  positive\n"
          ]
        }
      ],
      "source": [
        "import pandas as pd\n",
        "import numpy as np\n",
        "import matplotlib.pyplot as plt\n",
        "import seaborn as sns\n",
        "from sklearn.model_selection import train_test_split\n",
        "from sklearn.feature_extraction.text import TfidfVectorizer\n",
        "from sklearn.linear_model import LogisticRegression\n",
        "from sklearn.metrics import accuracy_score, precision_score, recall_score, confusion_matrix\n",
        "\n",
        "# Step 1: Load Dataset from Google Colab Path\n",
        "file_path = '/content/Reddit_Data.csv'  # Update with actual file path\n",
        "df = pd.read_csv(file_path)\n",
        "df = df[['clean_comment', 'category']].rename(columns={'clean_comment': 'review', 'category': 'sentiment'})\n",
        "df['sentiment'] = df['sentiment'].map({-1: 'negative', 0: 'neutral', 1: 'positive'})\n",
        "print(df.head())"
      ]
    },
    {
      "cell_type": "code",
      "source": [
        "# Step 2: Filter out neutral sentiments and split Data (80:20)\n",
        "print(\"Filtering neutral sentiments and splitting data...\")\n",
        "df = df[df['sentiment'] != 'neutral']\n",
        "\n",
        "def split_data(df):\n",
        "    X_train, X_test, y_train, y_test = train_test_split(\n",
        "        df['review'], df['sentiment'], test_size=0.2, random_state=42, stratify=df['sentiment']\n",
        "    )\n",
        "    print(\"Data split completed!\")\n",
        "    return X_train, X_test, y_train, y_test\n",
        "\n",
        "X_train, X_test, y_train, y_test = split_data(df)"
      ],
      "metadata": {
        "colab": {
          "base_uri": "https://localhost:8080/"
        },
        "id": "UETQyVHllkbZ",
        "outputId": "31c5b4be-d0ec-4ccd-be3e-4e04bfc264f1"
      },
      "execution_count": null,
      "outputs": [
        {
          "output_type": "stream",
          "name": "stdout",
          "text": [
            "Filtering neutral sentiments and splitting data...\n",
            "Data split completed!\n"
          ]
        }
      ]
    },
    {
      "cell_type": "code",
      "source": [
        "# Step 3: Vectorize text using TF-IDF\n",
        "print(\"Vectorizing text using TF-IDF...\")\n",
        "def vectorize_text(X_train, X_test):\n",
        "    vectorizer = TfidfVectorizer(max_features=5000)\n",
        "    X_train_tfidf = vectorizer.fit_transform(X_train)\n",
        "    X_test_tfidf = vectorizer.transform(X_test)\n",
        "    print(\"Text vectorization completed!\")\n",
        "    return X_train_tfidf, X_test_tfidf, vectorizer\n",
        "\n",
        "X_train_tfidf, X_test_tfidf, vectorizer = vectorize_text(X_train, X_test)"
      ],
      "metadata": {
        "colab": {
          "base_uri": "https://localhost:8080/"
        },
        "id": "Gpe9JPYjlk7D",
        "outputId": "9c9baf86-49a0-4032-cb96-bd1fae4937bc"
      },
      "execution_count": null,
      "outputs": [
        {
          "output_type": "stream",
          "name": "stdout",
          "text": [
            "Vectorizing text using TF-IDF...\n",
            "Text vectorization completed!\n"
          ]
        }
      ]
    },
    {
      "cell_type": "code",
      "source": [
        "# Step 4: Train Logistic Regression Model\n",
        "print(\"Training Logistic Regression Model...\")\n",
        "def train_model(X_train_tfidf, y_train):\n",
        "    model = LogisticRegression()\n",
        "    model.fit(X_train_tfidf, y_train)\n",
        "    print(\"Model training completed!\")\n",
        "    return model\n",
        "\n",
        "model = train_model(X_train_tfidf, y_train)"
      ],
      "metadata": {
        "colab": {
          "base_uri": "https://localhost:8080/"
        },
        "id": "8LFI4idzllLl",
        "outputId": "7715b270-4484-4710-8231-7e7576392ccc"
      },
      "execution_count": null,
      "outputs": [
        {
          "output_type": "stream",
          "name": "stdout",
          "text": [
            "Training Logistic Regression Model...\n",
            "Model training completed!\n"
          ]
        }
      ]
    },
    {
      "cell_type": "code",
      "source": [
        "# Step 5: Evaluate Model Performance\n",
        "print(\"Evaluating model performance...\")\n",
        "def evaluate_model(model, X_test_tfidf, y_test):\n",
        "    y_pred = model.predict(X_test_tfidf)\n",
        "    acc = accuracy_score(y_test, y_pred)\n",
        "    prec = precision_score(y_test, y_pred, pos_label='positive')\n",
        "    rec = recall_score(y_test, y_pred, pos_label='positive')\n",
        "    cm = confusion_matrix(y_test, y_pred, labels=['positive', 'negative'])\n",
        "\n",
        "    print(f'Accuracy: {acc:.4f}')\n",
        "    print(f'Precision: {prec:.4f}')\n",
        "    print(f'Recall: {rec:.4f}')\n",
        "    print(\"Confusion Matrix:\")\n",
        "\n",
        "    sns.heatmap(cm, annot=True, fmt='d', cmap='Blues', xticklabels=['Positive', 'Negative'], yticklabels=['Positive', 'Negative'])\n",
        "    plt.xlabel('Predicted')\n",
        "    plt.ylabel('Actual')\n",
        "    plt.show()\n",
        "    print(\"Evaluation completed!\")\n",
        "\n",
        "evaluate_model(model, X_test_tfidf, y_test)"
      ],
      "metadata": {
        "colab": {
          "base_uri": "https://localhost:8080/",
          "height": 553
        },
        "id": "J98UYsI6lzwN",
        "outputId": "bf1bda17-d86b-47f4-e782-dc7108117996"
      },
      "execution_count": null,
      "outputs": [
        {
          "output_type": "stream",
          "name": "stdout",
          "text": [
            "Evaluating model performance...\n",
            "Accuracy: 0.8720\n",
            "Precision: 0.8599\n",
            "Recall: 0.9618\n",
            "Confusion Matrix:\n"
          ]
        },
        {
          "output_type": "display_data",
          "data": {
            "text/plain": [
              "<Figure size 640x480 with 2 Axes>"
            ],
            "image/png": "[encoded data removed]"
          },
          "metadata": {}
        },
        {
          "output_type": "stream",
          "name": "stdout",
          "text": [
            "Evaluation completed!\n"
          ]
        }
      ]
    }
  ]
}